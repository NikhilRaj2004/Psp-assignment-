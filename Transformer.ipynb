{
  "nbformat": 4,
  "nbformat_minor": 0,
  "metadata": {
    "colab": {
      "provenance": [],
      "authorship_tag": "ABX9TyN3xHhBc5qCtLfjVPqVu5Lh",
      "include_colab_link": true
    },
    "kernelspec": {
      "name": "python3",
      "display_name": "Python 3"
    },
    "language_info": {
      "name": "python"
    }
  },
  "cells": [
    {
      "cell_type": "markdown",
      "metadata": {
        "id": "view-in-github",
        "colab_type": "text"
      },
      "source": [
        "<a href=\"https://colab.research.google.com/github/NikhilRaj2004/Psp-assignment-/blob/main/Transformer.ipynb\" target=\"_parent\"><img src=\"https://colab.research.google.com/assets/colab-badge.svg\" alt=\"Open In Colab\"/></a>"
      ]
    },
    {
      "cell_type": "code",
      "execution_count": null,
      "metadata": {
        "id": "2lAe6EdfqewB"
      },
      "outputs": [],
      "source": [
        "def OC(Vo,Io,Wo):\n",
        "  import math\n",
        "  NPF=Wo/(Vo*Io)\n",
        "  Iw=Io*NPF\n",
        "  Imu=Io*math.sqrt(1-NPF**2)\n",
        "  Ro=Vo/Iw\n",
        "  Xo=Vo/Imu\n",
        "  return Ro,Xo\n"
      ]
    },
    {
      "cell_type": "code",
      "source": [
        "def SC(Vsc,Isc,Wsc):\n",
        "  import math\n",
        "  Rhv=Wsc/(Isc**2)\n",
        "  Zhv=Vsc/Isc\n",
        "  Xhv=math.sqrt((Zhv*2)-(Rhv*2))\n",
        "  return Rhv,Xhv\n"
      ],
      "metadata": {
        "id": "P7pj-IIKqzDi"
      },
      "execution_count": null,
      "outputs": []
    },
    {
      "cell_type": "code",
      "source": [
        "def eff(Rating,Wo,Wsc,X,PF):\n",
        "  efficiency=(X*Rating*PF*100)/((X*Rating*PF)+Wo+(X**2)*Wsc)\n",
        "  Copper=(X**2)*Wsc\n",
        "  return efficiency,Copper"
      ],
      "metadata": {
        "id": "mGtxJd18q6by"
      },
      "execution_count": null,
      "outputs": []
    }
  ]
}