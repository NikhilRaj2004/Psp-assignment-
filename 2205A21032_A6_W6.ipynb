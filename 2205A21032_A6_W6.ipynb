{
  "nbformat": 4,
  "nbformat_minor": 0,
  "metadata": {
    "colab": {
      "provenance": [],
      "authorship_tag": "ABX9TyNE276wBRrNCjLbZcEvNnDD",
      "include_colab_link": true
    },
    "kernelspec": {
      "name": "python3",
      "display_name": "Python 3"
    },
    "language_info": {
      "name": "python"
    }
  },
  "cells": [
    {
      "cell_type": "markdown",
      "metadata": {
        "id": "view-in-github",
        "colab_type": "text"
      },
      "source": [
        "<a href=\"https://colab.research.google.com/github/NikhilRaj2004/Psp-assignment-/blob/main/2205A21032_A6_W6.ipynb\" target=\"_parent\"><img src=\"https://colab.research.google.com/assets/colab-badge.svg\" alt=\"Open In Colab\"/></a>"
      ]
    },
    {
      "cell_type": "code",
      "source": [
        "for r in range(6):\n",
        "  for c in range(6):\n",
        "    if (r<=c):\n",
        "      print(\"+\",end=\" \")\n",
        "    #else:\n",
        "      #print(\" \",end=\" \")\n",
        "  print()"
      ],
      "metadata": {
        "colab": {
          "base_uri": "https://localhost:8080/"
        },
        "id": "_4eL7XEoWz9b",
        "outputId": "e9f50b45-494b-4ac0-a777-e26272b5d5d2"
      },
      "execution_count": 7,
      "outputs": [
        {
          "output_type": "stream",
          "name": "stdout",
          "text": [
            "+ + + + + + \n",
            "+ + + + + \n",
            "+ + + + \n",
            "+ + + \n",
            "+ + \n",
            "+ \n"
          ]
        }
      ]
    },
    {
      "cell_type": "code",
      "source": [
        "for r in range(6):\n",
        "    for c in range(6):\n",
        "        if (r>=c):\n",
        "           print(\"*\",end=\" \")\n",
        "        #else:\n",
        "        #print(\" \",end=\" \")\n",
        "    print()"
      ],
      "metadata": {
        "colab": {
          "base_uri": "https://localhost:8080/"
        },
        "id": "8irqcmfCYtf0",
        "outputId": "722e260f-e8cb-4dcd-f4d1-3c3afa57495e"
      },
      "execution_count": 40,
      "outputs": [
        {
          "output_type": "stream",
          "name": "stdout",
          "text": [
            "* \n",
            "* * \n",
            "* * * \n",
            "* * * * \n",
            "* * * * * \n",
            "* * * * * * \n"
          ]
        }
      ]
    },
    {
      "cell_type": "code",
      "source": [
        "for r in range(6):\n",
        "      for c in range(6):\n",
        "         if (c<6-r):\n",
        "\n",
        "            print(\" \",end=\"\")\n",
        "         else:\n",
        "            print(\"*\",end=\"\")\n",
        "      print()"
      ],
      "metadata": {
        "colab": {
          "base_uri": "https://localhost:8080/"
        },
        "id": "gdBx_Sg_cLAi",
        "outputId": "804fe836-f1f7-4f10-95a1-2153d5184356"
      },
      "execution_count": 45,
      "outputs": [
        {
          "output_type": "stream",
          "name": "stdout",
          "text": [
            "      \n",
            "     *\n",
            "    **\n",
            "   ***\n",
            "  ****\n",
            " *****\n"
          ]
        }
      ]
    },
    {
      "cell_type": "code",
      "source": [
        "for r in range(6):\n",
        "    for c in range(6):\n",
        "      if (r<=c):\n",
        "        print(\"+\",end=\"\")\n",
        "      else:\n",
        "        print(\"\",end=\" \")\n",
        "    print()"
      ],
      "metadata": {
        "colab": {
          "base_uri": "https://localhost:8080/"
        },
        "id": "bmdD6Mg6ZFii",
        "outputId": "55360a4e-40a0-4887-e393-392b026a53ce"
      },
      "execution_count": 24,
      "outputs": [
        {
          "output_type": "stream",
          "name": "stdout",
          "text": [
            "++++++\n",
            " +++++\n",
            "  ++++\n",
            "   +++\n",
            "    ++\n",
            "     +\n"
          ]
        }
      ]
    },
    {
      "cell_type": "code",
      "source": [
        "for r in range(6):\n",
        "   for c in range(6):\n",
        "       if (c<r):\n",
        "          print(\" \",end=\"\")\n",
        "       else:\n",
        "          print(\"+\",end=\"\")\n",
        "   print()"
      ],
      "metadata": {
        "colab": {
          "base_uri": "https://localhost:8080/"
        },
        "id": "Y6GVqat9chHx",
        "outputId": "25c09394-fbf7-4221-b32c-ee9232a38eaf"
      },
      "execution_count": 29,
      "outputs": [
        {
          "output_type": "stream",
          "name": "stdout",
          "text": [
            "++++++\n",
            " +++++\n",
            "  ++++\n",
            "   +++\n",
            "    ++\n",
            "     +\n"
          ]
        }
      ]
    },
    {
      "cell_type": "code",
      "source": [
        "r=0\n",
        "while (r in range(6)):\n",
        " c=0\n",
        " while (c in range(6)):\n",
        "   if(r<=c):\n",
        "    print(\"+\",end=\"\")\n",
        "   c+=1\n",
        " print()\n",
        " r+=1"
      ],
      "metadata": {
        "colab": {
          "base_uri": "https://localhost:8080/"
        },
        "id": "1nJYhHrEloru",
        "outputId": "588dbe64-0249-4844-9baa-13735b18d8be"
      },
      "execution_count": 53,
      "outputs": [
        {
          "output_type": "stream",
          "name": "stdout",
          "text": [
            "++++++\n",
            "+++++\n",
            "++++\n",
            "+++\n",
            "++\n",
            "+\n"
          ]
        }
      ]
    },
    {
      "cell_type": "code",
      "source": [
        "r=0\n",
        "while (r in range(6)):\n",
        "  c=0\n",
        "  while (c in range(6)):\n",
        "    if(c<=r):\n",
        "       print(\"*\",end=\"\")\n",
        "    c+=1\n",
        "  print()\n",
        "  r+=1"
      ],
      "metadata": {
        "colab": {
          "base_uri": "https://localhost:8080/"
        },
        "id": "VM0NNWE8mUBl",
        "outputId": "3a59a2b8-7446-41c5-bf37-93174854a716"
      },
      "execution_count": 55,
      "outputs": [
        {
          "output_type": "stream",
          "name": "stdout",
          "text": [
            "*\n",
            "**\n",
            "***\n",
            "****\n",
            "*****\n",
            "******\n"
          ]
        }
      ]
    },
    {
      "cell_type": "code",
      "source": [
        "r=0\n",
        "while (r in range(5)):\n",
        "  c=0\n",
        "  while (c in range(5)):\n",
        "      if (c < 5 - r - 1):\n",
        "         print(\" \", end=\"\")\n",
        "         c+=1\n",
        "      else:\n",
        "         print(\"*\", end=\"\")\n",
        "         c+=1\n",
        "  print()\n",
        "  r+=1\n"
      ],
      "metadata": {
        "colab": {
          "base_uri": "https://localhost:8080/"
        },
        "id": "PtO-hBFpmwn9",
        "outputId": "38374d1d-cb67-4468-e520-4969a1dbbd4d"
      },
      "execution_count": 61,
      "outputs": [
        {
          "output_type": "stream",
          "name": "stdout",
          "text": [
            "    *\n",
            "   **\n",
            "  ***\n",
            " ****\n",
            "*****\n"
          ]
        }
      ]
    },
    {
      "cell_type": "code",
      "source": [
        "r=0\n",
        "while (r in range(6)):\n",
        " c=0\n",
        " while (c in range(6)):\n",
        "    if(r<=c):\n",
        "      print(\"+\",end=\"\")\n",
        "    else:\n",
        "      print(\" \",end=\"\")\n",
        "    c=c+1\n",
        " print()\n",
        " r+=1\n",
        "\n",
        "\n",
        "\n",
        "\n",
        "\n",
        "\n"
      ],
      "metadata": {
        "colab": {
          "base_uri": "https://localhost:8080/"
        },
        "id": "ggGpClmenukm",
        "outputId": "4a9654c5-75cd-46b6-b9d0-8c791cfd50ff"
      },
      "execution_count": 79,
      "outputs": [
        {
          "output_type": "stream",
          "name": "stdout",
          "text": [
            "++++++\n",
            " +++++\n",
            "  ++++\n",
            "   +++\n",
            "    ++\n",
            "     +\n"
          ]
        }
      ]
    }
  ]
}