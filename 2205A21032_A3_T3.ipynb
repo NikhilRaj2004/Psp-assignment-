{
  "nbformat": 4,
  "nbformat_minor": 0,
  "metadata": {
    "colab": {
      "provenance": [],
      "authorship_tag": "ABX9TyPjJGUNmRFaU8SBKLzJtdmp",
      "include_colab_link": true
    },
    "kernelspec": {
      "name": "python3",
      "display_name": "Python 3"
    },
    "language_info": {
      "name": "python"
    }
  },
  "cells": [
    {
      "cell_type": "markdown",
      "metadata": {
        "id": "view-in-github",
        "colab_type": "text"
      },
      "source": [
        "<a href=\"https://colab.research.google.com/github/NikhilRaj2004/Psp-assignment-/blob/main/2205A21032_A3_T3.ipynb\" target=\"_parent\"><img src=\"https://colab.research.google.com/assets/colab-badge.svg\" alt=\"Open In Colab\"/></a>"
      ]
    },
    {
      "cell_type": "code",
      "execution_count": null,
      "metadata": {
        "colab": {
          "base_uri": "https://localhost:8080/"
        },
        "id": "KpgYeSSGrhqy",
        "outputId": "e39a2542-a9b4-47c1-b63d-bb9adbc0e222"
      },
      "outputs": [
        {
          "output_type": "stream",
          "name": "stdout",
          "text": [
            "enter the value of open circuit voltage Vo:220\n",
            "enter the value of open circuit current Io:2\n",
            "enter the value of open circuit power Wo -core losses:250\n",
            "enter the value of short circuit voltage Vsc:75\n",
            "enter the value of short circuit current Isc:10\n",
            "enter the value of short circuit power Wsc:500\n",
            "enter the rating of the 1-phase transformer:50000\n",
            "enter the load inserted on the transformer i.e X:1\n",
            "enter the PF:1\n",
            " The value of Ro value is  193.6\n",
            "The value of Xo value is  133.67309875319802\n",
            "The value of Rhv value is  5.0\n",
            "The value of Xhv value is  2.23606797749979\n",
            " Final efficiency value is  98.52216748768473\n",
            "The value of copper_losses Wsc value is 500.0\n"
          ]
        }
      ],
      "source": [
        "import Transformer\n",
        "Vo=int(input(\"enter the value of open circuit voltage Vo:\"))\n",
        "Io=int(input(\"enter the value of open circuit current Io:\"))\n",
        "Wo=int(input(\"enter the value of open circuit power Wo -core losses:\"))\n",
        "Vsc=int(input(\"enter the value of short circuit voltage Vsc:\"))\n",
        "Isc=int(input(\"enter the value of short circuit current Isc:\"))\n",
        "Wsc=int(input(\"enter the value of short circuit power Wsc:\"))\n",
        "Rating=int(input(\"enter the rating of the 1-phase transformer:\"))\n",
        "X=float(input(\"enter the load inserted on the transformer i.e X:\"))\n",
        "PF=float(input(\"enter the PF:\"))\n",
        "\n",
        "[Ro,Xo]=Transformer.OC(Vo,Io,Wo)\n",
        "[Rhv,Xhv]=Transformer.SC(Vsc,Isc,Wsc)\n",
        "[efficiency,Copper]=Transformer.eff(Rating,Wo,Wsc,X,PF)\n",
        "print(\" The value of Ro value is \",Ro)\n",
        "print(\"The value of Xo value is \",Xo)\n",
        "print(\"The value of Rhv value is \",Rhv)\n",
        "print(\"The value of Xhv value is \",Xhv)\n",
        "print(\" Final efficiency value is \",efficiency)\n",
        "print(\"The value of copper_losses Wsc value is\",Copper)"
      ]
    }
  ]
}