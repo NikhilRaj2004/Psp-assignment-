{
  "nbformat": 4,
  "nbformat_minor": 0,
  "metadata": {
    "colab": {
      "provenance": [],
      "authorship_tag": "ABX9TyOpUNqfIM/Mswae3L5+2Fxw",
      "include_colab_link": true
    },
    "kernelspec": {
      "name": "python3",
      "display_name": "Python 3"
    },
    "language_info": {
      "name": "python"
    }
  },
  "cells": [
    {
      "cell_type": "markdown",
      "metadata": {
        "id": "view-in-github",
        "colab_type": "text"
      },
      "source": [
        "<a href=\"https://colab.research.google.com/github/NikhilRaj2004/Psp-assignment-/blob/main/2205a21032_A5.ipynb\" target=\"_parent\"><img src=\"https://colab.research.google.com/assets/colab-badge.svg\" alt=\"Open In Colab\"/></a>"
      ]
    },
    {
      "cell_type": "code",
      "execution_count": 2,
      "metadata": {
        "colab": {
          "base_uri": "https://localhost:8080/"
        },
        "id": "rrO14IFwHtD-",
        "outputId": "f39c3e58-033a-4072-8d93-b691a3cf1134"
      },
      "outputs": [
        {
          "output_type": "stream",
          "name": "stdout",
          "text": [
            "enter previous unit=7144\n",
            "enter current units=7183\n",
            "0:res,1:com,2:adv0\n",
            "====================================\n",
            "             TGNPDCL                \n",
            "2024-09-23 19:14:57.178075+05:30\n",
            "====================================\n",
            "previous units= 7144\n",
            "current units= 7183\n",
            "units consumed= 39\n",
            "energy charges= 76.05\n",
            "fixed charges= 10\n",
            "customer charges= 40\n",
            "duty charges= 2.34\n",
            "bill amount= 128.39\n",
            "====================================\n"
          ]
        }
      ],
      "source": [
        "import tgnpdcl\n",
        "pu=int(input(\"enter previous unit=\" ))\n",
        "cu=int(input(\"enter current units=\"))\n",
        "type=int(input(\"0:res,1:com,2:adv\"))\n",
        "u=cu-pu\n",
        "if(type==0):\n",
        "  [ec,fc,cc,ed,bill_amount]=tgnpdcl.res(pu,cu)\n",
        "if(type==1):\n",
        "  [ec,fc,cc,ed,bill_amount]=tgnpdcl.com(pu,cu)\n",
        "if(type==2):\n",
        "  [ec,fc,cc,ed,bill_amount]=tgnpdcl.adv(pu,cu)\n",
        "\n",
        "from pytz import timezone\n",
        "from datetime import datetime\n",
        "ind_time = datetime.now(timezone('Asia/Kolkata'))\n",
        "\n",
        "\n",
        "print(\"====================================\")\n",
        "print(\"             TGNPDCL                \")\n",
        "print(ind_time)\n",
        "print(\"====================================\")\n",
        "print(\"previous units=\",pu)\n",
        "print(\"current units=\",cu)\n",
        "print(\"units consumed=\",u)\n",
        "print(\"energy charges=\",ec)\n",
        "print(\"fixed charges=\",fc)\n",
        "print(\"customer charges=\",cc)\n",
        "print(\"duty charges=\",ed)\n",
        "print(\"bill amount=\",bill_amount)\n",
        "print(\"====================================\")\n",
        "\n",
        "\n"
      ]
    }
  ]
}