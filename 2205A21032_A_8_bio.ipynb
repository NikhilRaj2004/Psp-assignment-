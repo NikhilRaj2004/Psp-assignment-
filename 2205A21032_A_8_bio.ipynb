{
  "nbformat": 4,
  "nbformat_minor": 0,
  "metadata": {
    "colab": {
      "provenance": [],
      "authorship_tag": "ABX9TyPoZ7OfdsMQHDEuFVdHGT0K",
      "include_colab_link": true
    },
    "kernelspec": {
      "name": "python3",
      "display_name": "Python 3"
    },
    "language_info": {
      "name": "python"
    }
  },
  "cells": [
    {
      "cell_type": "markdown",
      "metadata": {
        "id": "view-in-github",
        "colab_type": "text"
      },
      "source": [
        "<a href=\"https://colab.research.google.com/github/NikhilRaj2004/Psp-assignment-/blob/main/2205A21032_A_8_bio.ipynb\" target=\"_parent\"><img src=\"https://colab.research.google.com/assets/colab-badge.svg\" alt=\"Open In Colab\"/></a>"
      ]
    },
    {
      "cell_type": "markdown",
      "source": [
        "***SELF INTRO***"
      ],
      "metadata": {
        "id": "zgj3SCS5kgZD"
      }
    },
    {
      "cell_type": "code",
      "source": [
        "Qualification=[\"NIKHILRAJ\",\"B.TECH\",2026,\"M.TECH\",2028]\n",
        "Experience=['SSCE', 2007, 'infosys', '2011', 'AITAM', '2013', 'SREC', '2018']\n",
        "\n",
        "CA=Qualification + Experience\n",
        "\n",
        "print(\"Qualification = \", Qualification)\n",
        "\n",
        "print(\"Experience    = \", Experience)\n",
        "\n",
        "print(\"CONCATINATION = \", CA) #CA-Qualification+Experience #Concatination of the two Lists"
      ],
      "metadata": {
        "colab": {
          "base_uri": "https://localhost:8080/"
        },
        "id": "DWooHxechYSj",
        "outputId": "dc772e2f-6450-4758-b513-af837e481c3e"
      },
      "execution_count": null,
      "outputs": [
        {
          "output_type": "stream",
          "name": "stdout",
          "text": [
            "Qualification =  ['NIKHILRAJ', 'B.TECH', 2026, 'M.TECH', 2028]\n",
            "Experience    =  ['SSCE', 2007, 'infosys', '2011', 'AITAM', '2013', 'SREC', '2018']\n",
            "CONCATINATION =  ['NIKHILRAJ', 'B.TECH', 2026, 'M.TECH', 2028, 'SSCE', 2007, 'infosys', '2011', 'AITAM', '2013', 'SREC', '2018']\n"
          ]
        }
      ]
    },
    {
      "cell_type": "code",
      "source": [
        "Qualification=[\"NIKHILRAJ\",\"B.TECH\",2026,\"M.TECH\",2028]\n",
        "\n",
        "print(Qualification) #Print Qualification\n",
        "\n",
        "print(Qualification[0])#Print first item in the list\n",
        "\n",
        "print(Qualification[1:])#Print all items in the List except first one\n",
        "\n",
        "print(Qualification[1:5])#Print second to fifth items from List\n",
        "\n",
        "print (Qualification*2)#Print List Twice\n",
        "\n",
        "print(Qualification[::-1])#Print The List in Reverse\n"
      ],
      "metadata": {
        "colab": {
          "base_uri": "https://localhost:8080/"
        },
        "id": "mfibjlWVlTFj",
        "outputId": "c6fa1452-d52a-4a8e-c00f-bf4887c0239f"
      },
      "execution_count": null,
      "outputs": [
        {
          "output_type": "stream",
          "name": "stdout",
          "text": [
            "['NIKHILRAJ', 'B.TECH', 2026, 'M.TECH', 2028]\n",
            "NIKHILRAJ\n",
            "['B.TECH', 2026, 'M.TECH', 2028]\n",
            "['B.TECH', 2026, 'M.TECH', 2028]\n",
            "['NIKHILRAJ', 'B.TECH', 2026, 'M.TECH', 2028, 'NIKHILRAJ', 'B.TECH', 2026, 'M.TECH', 2028]\n",
            "[2028, 'M.TECH', 2026, 'B.TECH', 'NIKHILRAJ']\n"
          ]
        }
      ]
    },
    {
      "cell_type": "code",
      "source": [
        "list=['Starkie','2004']\n",
        "print('Starkie', list[1])\n",
        "list[0]=\"Nikhil Raj\"\n",
        "list[1]=2005\n",
        "print('Nikhil Raj birth year', list[1])"
      ],
      "metadata": {
        "colab": {
          "base_uri": "https://localhost:8080/"
        },
        "id": "IQw2gbADoXoy",
        "outputId": "0084b3a8-b588-4ba7-accd-46dd60cc09da"
      },
      "execution_count": null,
      "outputs": [
        {
          "output_type": "stream",
          "name": "stdout",
          "text": [
            "Starkie 2004\n",
            "Nikhil Raj birth year 2005\n"
          ]
        }
      ]
    },
    {
      "cell_type": "code",
      "source": [
        "list=['Starkie','2004']\n",
        "print(list)\n",
        "del list[1]\n",
        "print(list)"
      ],
      "metadata": {
        "colab": {
          "base_uri": "https://localhost:8080/"
        },
        "id": "Nkqv5fbhnypK",
        "outputId": "74b347a1-c9f4-4c6b-9bb7-0ecac779328b"
      },
      "execution_count": null,
      "outputs": [
        {
          "output_type": "stream",
          "name": "stdout",
          "text": [
            "['Starkie', '2004']\n",
            "['Starkie']\n"
          ]
        }
      ]
    },
    {
      "cell_type": "code",
      "source": [
        "Name=['NikhilRaj', 'Starmie', 'Starkie']\n",
        "DOB=[2004,2004,2003]\n",
        "print(\"Number of peoples\", len(Name))\n",
        "print('==========' )\n",
        "Details=Name+DOB\n",
        "print('Biodata', Details)\n",
        "print('==========' )\n",
        "Repetition=Name *2\n",
        "print('Repetition', Repetition)\n",
        "print('========')\n",
        "for x in Name:\n",
        "   print(x)\n",
        "print('=========')"
      ],
      "metadata": {
        "colab": {
          "base_uri": "https://localhost:8080/"
        },
        "id": "e98dR7unpjGa",
        "outputId": "5da2e3f6-24b1-43e2-d6fd-8ed885bad80d"
      },
      "execution_count": null,
      "outputs": [
        {
          "output_type": "stream",
          "name": "stdout",
          "text": [
            "Number of peoples 3\n",
            "==========\n",
            "Biodata ['NikhilRaj', 'Starmie', 'Starkie', 2004, 2004, 2003]\n",
            "==========\n",
            "Repetition ['NikhilRaj', 'Starmie', 'Starkie', 'NikhilRaj', 'Starmie', 'Starkie']\n",
            "========\n",
            "NikhilRaj\n",
            "Starmie\n",
            "Starkie\n",
            "=========\n"
          ]
        }
      ]
    },
    {
      "cell_type": "code",
      "source": [
        "Name=['Nikhil','Starmie','Starkie']\n",
        "DOB=[2004,2004,2003]\n",
        "print(\"Name with maximum charecters=\",max(Name))\n",
        "print(\"Younger person DOB=\", max(DOB))\n",
        "print(\"Name with minimum charecters=\",min(Name))\n",
        "print(\"Older person DOB=\", min(DOB))"
      ],
      "metadata": {
        "colab": {
          "base_uri": "https://localhost:8080/"
        },
        "id": "UWnCpLXUtSUJ",
        "outputId": "2532805b-d19f-4392-ad0d-114431b15655"
      },
      "execution_count": null,
      "outputs": [
        {
          "output_type": "stream",
          "name": "stdout",
          "text": [
            "Name with maximum charecters= Starmie\n",
            "Younger person DOB= 2004\n",
            "Name with minimum charecters= Nikhil\n",
            "Older person DOB= 2003\n"
          ]
        }
      ]
    },
    {
      "cell_type": "code",
      "source": [
        "Students=['Starkie', 'Starmie']\n",
        "print (Students)\n",
        "Students.append('NikhilRaj')\n",
        "print (Students)"
      ],
      "metadata": {
        "colab": {
          "base_uri": "https://localhost:8080/"
        },
        "id": "o9rpfZGeuhpR",
        "outputId": "a49ac971-4aa6-414d-cdc8-fc378031d51f"
      },
      "execution_count": null,
      "outputs": [
        {
          "output_type": "stream",
          "name": "stdout",
          "text": [
            "['Starkie', 'Starmie']\n",
            "['Starkie', 'Starmie', 'NikhilRaj']\n"
          ]
        }
      ]
    },
    {
      "cell_type": "code",
      "source": [
        "Grade=['A', 'A', 'B', 'C', 'A']\n",
        "print(\"How many peoples got A grade\", Grade.count('A'))"
      ],
      "metadata": {
        "colab": {
          "base_uri": "https://localhost:8080/"
        },
        "id": "XxK5uQ23vUiw",
        "outputId": "30c2a892-7b7c-4db4-9802-f1701df86984"
      },
      "execution_count": null,
      "outputs": [
        {
          "output_type": "stream",
          "name": "stdout",
          "text": [
            "How many peoples got A grade 3\n"
          ]
        }
      ]
    },
    {
      "cell_type": "code",
      "source": [
        "Family=['Venkat', 'Swetha']\n",
        "print('Family members', Family)\n",
        "atuple=('Dev', 'Thanmai')\n",
        "Family.extend(atuple)\n",
        "print('Family members', Family)"
      ],
      "metadata": {
        "colab": {
          "base_uri": "https://localhost:8080/"
        },
        "id": "-7XUzh39v9DI",
        "outputId": "fdf06dc8-abbb-4d56-d0a8-882324735e68"
      },
      "execution_count": null,
      "outputs": [
        {
          "output_type": "stream",
          "name": "stdout",
          "text": [
            "Family members ['Venkat', 'Swetha']\n",
            "Family members ['Venkat', 'Swetha', 'Dev', 'Thanmai']\n"
          ]
        }
      ]
    },
    {
      "cell_type": "code",
      "source": [
        "Grade=['A', 'A', 'B', 'C', 'A']\n",
        "print('lower index for grade B',Grade.index('B'))"
      ],
      "metadata": {
        "colab": {
          "base_uri": "https://localhost:8080/"
        },
        "id": "LPhgV22nw084",
        "outputId": "b8546ea2-9b6a-4175-f458-2d8bb7b57e95"
      },
      "execution_count": null,
      "outputs": [
        {
          "output_type": "stream",
          "name": "stdout",
          "text": [
            "lower index for grade B 2\n"
          ]
        }
      ]
    },
    {
      "cell_type": "code",
      "source": [
        "Family=['Ramana', \"Swetha\", \"Thanmai\", 'Dev']\n",
        "print('Family members', Family)\n",
        "Family.remove(\"Ramana\")\n",
        "print('Family members', Family)"
      ],
      "metadata": {
        "colab": {
          "base_uri": "https://localhost:8080/"
        },
        "id": "JqVCCGaTw4vw",
        "outputId": "5aecc6b5-3e6f-4c49-c00e-6c07326ff692"
      },
      "execution_count": null,
      "outputs": [
        {
          "output_type": "stream",
          "name": "stdout",
          "text": [
            "Family members ['Ramana', 'Swetha', 'Thanmai', 'Dev']\n",
            "Family members ['Swetha', 'Thanmai', 'Dev']\n"
          ]
        }
      ]
    },
    {
      "cell_type": "code",
      "source": [
        "Family =['Ramana', \"Swetha\", \"Thanmai\", \"Dev\"]\n",
        "print('Family members', Family)\n",
        "Family.reverse()\n",
        "print(\"Family members\", Family)"
      ],
      "metadata": {
        "colab": {
          "base_uri": "https://localhost:8080/"
        },
        "id": "OzRDmQuqw9SI",
        "outputId": "db4c35fb-fbe5-4b35-f9fb-c49cbacea57f"
      },
      "execution_count": null,
      "outputs": [
        {
          "output_type": "stream",
          "name": "stdout",
          "text": [
            "Family members ['Ramana', 'Swetha', 'Thanmai', 'Dev']\n",
            "Family members ['Dev', 'Thanmai', 'Swetha', 'Ramana']\n"
          ]
        }
      ]
    },
    {
      "cell_type": "code",
      "source": [
        "Name =[\"Ramana\", \"Thanmal\", 'Dev']\n",
        "print(\"Family members\", Name)\n",
        "Name.insert(1, \"Swetha\")\n",
        "print(\"Family members\", Name)"
      ],
      "metadata": {
        "colab": {
          "base_uri": "https://localhost:8080/"
        },
        "id": "ZciMzC2cxATA",
        "outputId": "30a37a8a-9544-416b-b9ce-7f6a09f2f00a"
      },
      "execution_count": null,
      "outputs": [
        {
          "output_type": "stream",
          "name": "stdout",
          "text": [
            "Family members ['Ramana', 'Thanmal', 'Dev']\n",
            "Family members ['Ramana', 'Swetha', 'Thanmal', 'Dev']\n"
          ]
        }
      ]
    },
    {
      "cell_type": "code",
      "source": [
        "Name =[\"Ramana\", \"Thanmal\", 'Dev']\n",
        "print(\"Family members\", Name)\n",
        "Name.insert(1, \"Swetha\")\n",
        "print(\"Family members\", Name)"
      ],
      "metadata": {
        "colab": {
          "base_uri": "https://localhost:8080/"
        },
        "id": "ltV5cO9CxCp4",
        "outputId": "b25c46d9-16e0-4e7b-d779-78aa486944ab"
      },
      "execution_count": null,
      "outputs": [
        {
          "output_type": "stream",
          "name": "stdout",
          "text": [
            "Family members ['Ramana', 'Thanmal', 'Dev']\n",
            "Family members ['Ramana', 'Swetha', 'Thanmal', 'Dev']\n"
          ]
        }
      ]
    },
    {
      "cell_type": "code",
      "source": [
        "Family=['Ramana', \"Swetha\", \"Thanmai\", 'Dev']\n",
        "print('Family members', Family)\n",
        "Family.pop()\n",
        "print('Family members', Family)\n",
        "Family.pop(2)\n",
        "print('Family members', Family)"
      ],
      "metadata": {
        "id": "xtUzS6nqxlmp",
        "outputId": "12e43aed-558c-42b7-99f0-dd08077cf54f",
        "colab": {
          "base_uri": "https://localhost:8080/"
        }
      },
      "execution_count": null,
      "outputs": [
        {
          "output_type": "stream",
          "name": "stdout",
          "text": [
            "Family members ['Ramana', 'Swetha', 'Thanmai', 'Dev']\n",
            "Family members ['Ramana', 'Swetha', 'Thanmai']\n",
            "Family members ['Ramana', 'Swetha']\n"
          ]
        }
      ]
    },
    {
      "cell_type": "code",
      "source": [
        "tuple=(\"venkat\", 'B.Tech', 2006)\n",
        "print(tuple)\n",
        "print(tuple[0])\n",
        "print(tuple[0:2])\n",
        "print(tuple[0:])\n",
        "print(tuple[::-1])\n",
        "print(tuple[2:0:-1])"
      ],
      "metadata": {
        "colab": {
          "base_uri": "https://localhost:8080/"
        },
        "id": "h0WgUPqBEV_B",
        "outputId": "a8f63a48-5f23-43dc-e98f-9a3790f036d8"
      },
      "execution_count": 1,
      "outputs": [
        {
          "output_type": "stream",
          "name": "stdout",
          "text": [
            "('venkat', 'B.Tech', 2006)\n",
            "venkat\n",
            "('venkat', 'B.Tech')\n",
            "('venkat', 'B.Tech', 2006)\n",
            "(2006, 'B.Tech', 'venkat')\n",
            "(2006, 'B.Tech')\n"
          ]
        }
      ]
    },
    {
      "cell_type": "code",
      "source": [
        "tiny={'Name': 'Venkat', 'Marks':891}\n",
        "print(tiny)\n",
        "print(tiny['Name'])\n",
        "print(tiny['Marks'])\n",
        "tiny['Name']='ramana'\n",
        "print(tiny)\n",
        "print(tiny['Marks'])\n",
        "tiny['Name']='ramana'\n",
        "print(tiny)"
      ],
      "metadata": {
        "colab": {
          "base_uri": "https://localhost:8080/"
        },
        "id": "w-nT2G0KEbKu",
        "outputId": "de6062f0-3686-4e45-8774-bbd8da5d02ed"
      },
      "execution_count": 2,
      "outputs": [
        {
          "output_type": "stream",
          "name": "stdout",
          "text": [
            "{'Name': 'Venkat', 'Marks': 891}\n",
            "Venkat\n",
            "891\n",
            "{'Name': 'ramana', 'Marks': 891}\n",
            "891\n",
            "{'Name': 'ramana', 'Marks': 891}\n"
          ]
        }
      ]
    },
    {
      "cell_type": "code",
      "source": [
        "thisset = {\"apple\", \"banana\", \"cherry\"}\n",
        "tropical ={\"pineapple\", \"mango\", \"papaya\"}\n",
        "thisset.update(tropical)\n",
        "print(thisset)"
      ],
      "metadata": {
        "colab": {
          "base_uri": "https://localhost:8080/"
        },
        "id": "njNJKymkEb-Z",
        "outputId": "5f74473d-3df6-4f2d-d8e4-11fcb5d1ce4e"
      },
      "execution_count": 3,
      "outputs": [
        {
          "output_type": "stream",
          "name": "stdout",
          "text": [
            "{'cherry', 'pineapple', 'mango', 'banana', 'apple', 'papaya'}\n"
          ]
        }
      ]
    },
    {
      "cell_type": "code",
      "source": [
        "thisset = {\"apple\", \"banana\", \"cherry\"}\n",
        "for x in thisset:\n",
        " print(x)\n",
        ""
      ],
      "metadata": {
        "colab": {
          "base_uri": "https://localhost:8080/"
        },
        "id": "Y7lAiS9nEgQt",
        "outputId": "e37b5f48-3ad5-4d75-c513-fa58ee7fa1e3"
      },
      "execution_count": 4,
      "outputs": [
        {
          "output_type": "stream",
          "name": "stdout",
          "text": [
            "cherry\n",
            "banana\n",
            "apple\n"
          ]
        }
      ]
    },
    {
      "cell_type": "code",
      "source": [
        "thisset = {\"apple\", \"banana\", \"cherry\"}\n",
        "mylist = [\"kiwi\", \"orange\"]\n",
        "mylist_2=(2,3)\n",
        "mylist_3={\"Name\":\"Venkat\", \"School\": \"SRU\"}\n",
        "thisset.update(mylist)\n",
        "thisset.update(mylist_2)\n",
        "thisset.update(mylist_3)\n",
        "print(thisset)"
      ],
      "metadata": {
        "colab": {
          "base_uri": "https://localhost:8080/"
        },
        "id": "koUqby-DEn0b",
        "outputId": "01b33fc7-9065-4fff-f5ca-4694e817326a"
      },
      "execution_count": 5,
      "outputs": [
        {
          "output_type": "stream",
          "name": "stdout",
          "text": [
            "{2, 3, 'banana', 'kiwi', 'apple', 'orange', 'cherry', 'Name', 'School'}\n"
          ]
        }
      ]
    }
  ]
}