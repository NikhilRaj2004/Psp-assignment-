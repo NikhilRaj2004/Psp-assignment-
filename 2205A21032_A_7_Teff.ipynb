{
  "nbformat": 4,
  "nbformat_minor": 0,
  "metadata": {
    "colab": {
      "provenance": [],
      "authorship_tag": "ABX9TyNQLM8ZMqcjdxXrI0ZPVMt3",
      "include_colab_link": true
    },
    "kernelspec": {
      "name": "python3",
      "display_name": "Python 3"
    },
    "language_info": {
      "name": "python"
    }
  },
  "cells": [
    {
      "cell_type": "markdown",
      "metadata": {
        "id": "view-in-github",
        "colab_type": "text"
      },
      "source": [
        "<a href=\"https://colab.research.google.com/github/NikhilRaj2004/Psp-assignment-/blob/main/2205A21032_A_7_Teff.ipynb\" target=\"_parent\"><img src=\"https://colab.research.google.com/assets/colab-badge.svg\" alt=\"Open In Colab\"/></a>"
      ]
    },
    {
      "cell_type": "code",
      "source": [
        "import math\n",
        "\n",
        "Vr=float(input((\"enter the receving end voltage:\")))\n",
        "\n",
        "length=float(input(\"enter the length:\"))\n",
        "\n",
        "r=float(input(\"enter the resistance per phase:\"))\n",
        "\n",
        "l=float(input(\"enter the inductance per phase:\"))\n",
        "\n",
        "load=float(input(\"enter the apparent power:\"))\n",
        "\n",
        "pf=float(input(\"enter the power factor:\"))\n",
        "\n",
        "type_pf=int(input(\"0:lagging 1: leading\"))\n",
        "\n",
        "Vphase=Vr/math.sqrt(3)\n",
        "\n",
        "R=r*length\n",
        "\n",
        "L=l*length\n",
        "\n",
        "X=2*3.14*50*L\n",
        "\n",
        "Z=complex(R,X)\n",
        "\n",
        "p=load*pf\n",
        "\n",
        "Q=load*math.sqrt(1-pf**2)\n",
        "\n",
        "if(type_pf==0):\n",
        "\n",
        " S=complex(p,Q)\n",
        "\n",
        "else:\n",
        "\n",
        "  S=complex(p,-Q)\n",
        "\n",
        "Ir=(S.conjugate())/(3*Vphase)\n",
        "\n",
        "Vs=Vphase+Z*Ir\n",
        "\n",
        "voltage_regulation=(abs (Vs)-Vphase)*100/Vphase\n",
        "\n",
        "print(\"voltage_regulation=\", voltage_regulation)\n",
        "\n",
        "Ssend=3*Vs*Ir.conjugate()\n",
        "\n",
        "print(\"apparent power=\", Ssend)\n",
        "\n",
        "psend=Ssend.real\n",
        "\n",
        "print(\"sending end=\", psend)\n",
        "\n",
        "eff=p*100/psend\n",
        "\n",
        "print(\"efficiency=\",eff)"
      ],
      "metadata": {
        "colab": {
          "base_uri": "https://localhost:8080/"
        },
        "id": "YsmPB_26u_4Q",
        "outputId": "b879f42b-356c-46b6-c848-98ab88e7b814"
      },
      "execution_count": 1,
      "outputs": [
        {
          "output_type": "stream",
          "name": "stdout",
          "text": [
            "enter the receving end voltage:220\n",
            "enter the length:40\n",
            "enter the resistance per phase:0.15\n",
            "enter the inductance per phase:103263\n",
            "enter the apparent power:381\n",
            "enter the power factor:0.8\n",
            "0:lagging 1: leading0\n",
            "voltage_regulation= 1020972335.371904\n",
            "apparent power= (322.7951657772064+3889904978.7669406j)\n",
            "sending end= 322.7951657772064\n",
            "efficiency= 94.42520592466781\n"
          ]
        }
      ]
    },
    {
      "cell_type": "code",
      "source": [
        "import math\n",
        "\n",
        "Vr=float(input((\"enter the receving end voltage:\")))\n",
        "\n",
        "length=float(input(\"enter the length:\"))\n",
        "\n",
        "r=float(input(\"enter the resistance per phase:\"))\n",
        "\n",
        "l=float(input(\"enter the inductance per phase:\"))\n",
        "\n",
        "load=float(input(\"enter the apparent power:\"))\n",
        "\n",
        "pf=float(input(\"enter the power factor:\"))\n",
        "\n",
        "type_pf=int(input(\"0:lagging 1: leading\"))\n",
        "\n",
        "Vphase=Vr/math.sqrt(3)\n",
        "\n",
        "R=r*length\n",
        "\n",
        "L=l*length\n",
        "\n",
        "X=2*3.14*50*L\n",
        "\n",
        "Z=complex(R,X)\n",
        "\n",
        "p=load*pf\n",
        "\n",
        "Q=load*math.sqrt(1-pf**2)\n",
        "\n",
        "if(type_pf==0):\n",
        "\n",
        " S=complex(p,Q)\n",
        "\n",
        "else:\n",
        "\n",
        "  S=complex(p,-Q)\n",
        "\n",
        "Ir=(S.conjugate())/(3*Vphase)\n",
        "\n",
        "Vs=Vphase+Z*Ir\n",
        "\n",
        "voltage_regulation=(abs (Vs)-Vphase)*100/Vphase\n",
        "\n",
        "print(\"voltage_regulation=\", voltage_regulation)\n",
        "\n",
        "Ssend=3*Vs*Ir.conjugate()\n",
        "\n",
        "print(\"apparent power=\", Ssend)\n",
        "\n",
        "psend=Ssend.real\n",
        "\n",
        "print(\"sending end=\", psend)\n",
        "\n",
        "eff=p*100/psend\n",
        "\n",
        "print(\"efficiency=\",eff)"
      ],
      "metadata": {
        "colab": {
          "base_uri": "https://localhost:8080/"
        },
        "id": "giz77tRJxSF_",
        "outputId": "92e22298-b2b6-4e8a-fde8-88b933e0c86c"
      },
      "execution_count": 2,
      "outputs": [
        {
          "output_type": "stream",
          "name": "stdout",
          "text": [
            "enter the receving end voltage:220\n",
            "enter the length:40\n",
            "enter the resistance per phase:0.15\n",
            "enter the inductance per phase:1.3263\n",
            "enter the apparent power:381\n",
            "enter the power factor:0.8\n",
            "0:lagging 1: leading1\n",
            "voltage_regulation= 12953.545542798165\n",
            "apparent power= (322.79516528925524+49732.960967107414j)\n",
            "sending end= 322.79516528925524\n",
            "efficiency= 94.42520606740506\n"
          ]
        }
      ]
    }
  ]
}