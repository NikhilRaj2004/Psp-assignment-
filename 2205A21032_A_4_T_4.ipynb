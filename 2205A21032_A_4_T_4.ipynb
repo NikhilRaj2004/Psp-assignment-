{
  "nbformat": 4,
  "nbformat_minor": 0,
  "metadata": {
    "colab": {
      "provenance": [],
      "authorship_tag": "ABX9TyMt2qhdYZEwvvlYhejN6yzd",
      "include_colab_link": true
    },
    "kernelspec": {
      "name": "python3",
      "display_name": "Python 3"
    },
    "language_info": {
      "name": "python"
    }
  },
  "cells": [
    {
      "cell_type": "markdown",
      "metadata": {
        "id": "view-in-github",
        "colab_type": "text"
      },
      "source": [
        "<a href=\"https://colab.research.google.com/github/NikhilRaj2004/Psp-assignment-/blob/main/2205A21032_A_4_T_4.ipynb\" target=\"_parent\"><img src=\"https://colab.research.google.com/assets/colab-badge.svg\" alt=\"Open In Colab\"/></a>"
      ]
    },
    {
      "cell_type": "code",
      "execution_count": null,
      "metadata": {
        "colab": {
          "base_uri": "https://localhost:8080/"
        },
        "id": "YrIrNuy0J8LM",
        "outputId": "c92261b0-f7d7-4ff5-d278-ee4ebd579654"
      },
      "outputs": [
        {
          "output_type": "stream",
          "name": "stdout",
          "text": [
            "Assembling the current date and time 2024-09-09 10:53:36.603615\n",
            "The formatted date and time 2024-09-09 10:53:36\n",
            "enter the previos month units=71.45\n",
            "enter the current month units=71.83\n",
            "enter the type of customer 0;res 1;com 2;adv1\n",
            "----------------------------\n",
            "TGNPDCL TELANGANA NORTHEN POWER DISTRIBUTION COMPANY LIMITED \n",
            "formatted date and time: 2024-09-09 10:53:36\n",
            "----------------------------\n",
            "previous units: 71.45\n",
            "current units: 71.83\n",
            "no of units consumed= 0.37999999999999545\n",
            "energy chargers= 2.659999999999968\n",
            "fixed chargers= 10\n",
            "customer chargers= 50\n",
            "electricity duty= 0.022799999999999727\n",
            "bill_amount= 62.682799999999965\n"
          ]
        }
      ],
      "source": [
        "import datetime\n",
        "now=datetime.datetime.now()                                     #Assembling the current & time using inbuild function\n",
        "print(\"Assembling the current date and time\",now)\n",
        "formatted_now=now.strftime(\"%Y-%m-%d %H:%M:%S\")\n",
        "count=0\n",
        "print(\"The formatted date and time\",formatted_now)\n",
        "Pu=float(input(\"enter the previos month units=\"))                # Pu-previous consumed units\n",
        "Cu=float(input(\"enter the current month units=\"))                # Cu-currently consumed units\n",
        "Tc=float(input(\"enter the type of customer 0;res 1;com 2;adv\"))  # Tc-Type of customer\n",
        "no_units=Cu-Pu\n",
        "Ed=0.06*no_units\n",
        "if(Tc==0):\n",
        "  if(no_units<100):\n",
        "    if(no_units<50):\n",
        "      Ec=1.95*no_units                    #Ec-Energy charges on units\n",
        "      Fc=10                               #Fc-Fixed charges on units\n",
        "      Cc=40                               #Ec-customer charges on units\n",
        "    else:\n",
        "      Ec=3.10*no_units\n",
        "      Fc=10\n",
        "      Cc=70\n",
        "  else:\n",
        "    if(no_units>100 and no_units<=200):\n",
        "      Ec=100*3.4+(no_units-100)*4.8\n",
        "      Fc=10\n",
        "      Cc=90\n",
        "    else:\n",
        "        print(\"this application is not supppoted\")\n",
        "        count=count+1\n",
        "if(Tc==1):\n",
        "  if(no_units<50):\n",
        "    Ec=7*no_units\n",
        "    Fc=10\n",
        "    Cc=50\n",
        "  else:\n",
        "    print(\"this application is not supppoted\")\n",
        "    count=count+1\n",
        "\n",
        "if(Tc==2):\n",
        "  Ec=13*no_units\n",
        "  Fc=70\n",
        "  Cc=160\n",
        "\n",
        "if(count==0):\n",
        "  Total_bill_amount=Ec+Fc+Cc+Ed\n",
        "  print(\"----------------------------\")\n",
        "  print(\"TGNPDCL TELANGANA NORTHEN POWER DISTRIBUTION COMPANY LIMITED \")\n",
        "  print(\"formatted date and time:\",formatted_now)\n",
        "  print(\"----------------------------\")\n",
        "  print(\"previous units:\",Pu)\n",
        "  print(\"current units:\",Cu)\n",
        "  print(\"no of units consumed=\",no_units)\n",
        "  print(\"energy chargers=\",Ec)\n",
        "  print(\"fixed chargers=\",Fc)\n",
        "  print(\"customer chargers=\",Cc)\n",
        "  print(\"electricity duty=\",Ed)\n",
        "  print(\"bill_amount=\",Total_bill_amount)\n",
        "\n",
        "\n",
        "\n",
        "\n",
        "\n",
        "\n",
        "\n",
        "\n"
      ]
    }
  ]
}